{
 "cells": [
  {
   "cell_type": "code",
   "execution_count": 2,
   "id": "d9a13629",
   "metadata": {},
   "outputs": [],
   "source": [
    "import tensorflow as tf\n",
    "from tensorflow import keras\n",
    "import matplotlib.pyplot as plt\n",
    "import numpy as np"
   ]
  },
  {
   "cell_type": "code",
   "execution_count": 3,
   "id": "1a71707c",
   "metadata": {},
   "outputs": [
    {
     "data": {
      "text/plain": [
       "[PhysicalDevice(name='/physical_device:CPU:0', device_type='CPU'),\n",
       " PhysicalDevice(name='/physical_device:GPU:0', device_type='GPU')]"
      ]
     },
     "execution_count": 3,
     "metadata": {},
     "output_type": "execute_result"
    }
   ],
   "source": [
    "tf.config.experimental.list_physical_devices()"
   ]
  },
  {
   "cell_type": "code",
   "execution_count": 4,
   "id": "2d8b1bec",
   "metadata": {},
   "outputs": [
    {
     "name": "stdout",
     "output_type": "stream",
     "text": [
      "2.7.0\n"
     ]
    }
   ],
   "source": [
    "print(tf.__version__)"
   ]
  },
  {
   "cell_type": "code",
   "execution_count": 5,
   "id": "a570ab36",
   "metadata": {},
   "outputs": [
    {
     "data": {
      "text/plain": [
       "[PhysicalDevice(name='/physical_device:CPU:0', device_type='CPU'),\n",
       " PhysicalDevice(name='/physical_device:GPU:0', device_type='GPU')]"
      ]
     },
     "execution_count": 5,
     "metadata": {},
     "output_type": "execute_result"
    }
   ],
   "source": [
    "tf.config.experimental.list_physical_devices()"
   ]
  },
  {
   "cell_type": "code",
   "execution_count": 6,
   "id": "949494f9",
   "metadata": {},
   "outputs": [
    {
     "data": {
      "text/plain": [
       "[PhysicalDevice(name='/physical_device:CPU:0', device_type='CPU'),\n",
       " PhysicalDevice(name='/physical_device:GPU:0', device_type='GPU')]"
      ]
     },
     "execution_count": 6,
     "metadata": {},
     "output_type": "execute_result"
    }
   ],
   "source": [
    "tf.config.experimental.list_physical_devices()"
   ]
  },
  {
   "cell_type": "code",
   "execution_count": 3,
   "id": "b6bc3003",
   "metadata": {},
   "outputs": [
    {
     "data": {
      "text/plain": [
       "True"
      ]
     },
     "execution_count": 3,
     "metadata": {},
     "output_type": "execute_result"
    }
   ],
   "source": [
    "tf.test.is_built_with_cuda()"
   ]
  },
  {
   "cell_type": "code",
   "execution_count": 4,
   "id": "45e226ca",
   "metadata": {},
   "outputs": [
    {
     "name": "stdout",
     "output_type": "stream",
     "text": [
      "Downloading data from https://www.cs.toronto.edu/~kriz/cifar-10-python.tar.gz\n",
      "170500096/170498071 [==============================] - 652s 4us/step\n",
      "170508288/170498071 [==============================] - 652s 4us/step\n"
     ]
    }
   ],
   "source": [
    "(X_train, y_train), (X_test, y_test) = tf.keras.datasets.cifar10.load_data()"
   ]
  },
  {
   "cell_type": "code",
   "execution_count": 5,
   "id": "5b8f9899",
   "metadata": {},
   "outputs": [
    {
     "ename": "TypeError",
     "evalue": "'tuple' object is not callable",
     "output_type": "error",
     "traceback": [
      "\u001b[1;31m---------------------------------------------------------------------------\u001b[0m",
      "\u001b[1;31mTypeError\u001b[0m                                 Traceback (most recent call last)",
      "\u001b[1;32m~\\AppData\\Local\\Temp/ipykernel_4508/2623409873.py\u001b[0m in \u001b[0;36m<module>\u001b[1;34m\u001b[0m\n\u001b[1;32m----> 1\u001b[1;33m \u001b[0mX_train\u001b[0m\u001b[1;33m.\u001b[0m\u001b[0mshape\u001b[0m\u001b[1;33m(\u001b[0m\u001b[1;33m)\u001b[0m\u001b[1;33m\u001b[0m\u001b[1;33m\u001b[0m\u001b[0m\n\u001b[0m",
      "\u001b[1;31mTypeError\u001b[0m: 'tuple' object is not callable"
     ]
    }
   ],
   "source": [
    "X_train.shape()"
   ]
  },
  {
   "cell_type": "code",
   "execution_count": 6,
   "id": "9d4f3963",
   "metadata": {},
   "outputs": [
    {
     "data": {
      "text/plain": [
       "(50000, 32, 32, 3)"
      ]
     },
     "execution_count": 6,
     "metadata": {},
     "output_type": "execute_result"
    }
   ],
   "source": [
    "X_train.shape"
   ]
  },
  {
   "cell_type": "code",
   "execution_count": 7,
   "id": "f243f75a",
   "metadata": {},
   "outputs": [
    {
     "data": {
      "text/plain": [
       "array([[6],\n",
       "       [9],\n",
       "       [9],\n",
       "       [4],\n",
       "       [1]], dtype=uint8)"
      ]
     },
     "execution_count": 7,
     "metadata": {},
     "output_type": "execute_result"
    }
   ],
   "source": [
    "y_train[0:5]"
   ]
  },
  {
   "cell_type": "code",
   "execution_count": 8,
   "id": "1b319e38",
   "metadata": {},
   "outputs": [],
   "source": [
    "def plot_sample(index):\n",
    "    plt.figure(figsize=(10, 1))\n",
    "    plt.imshow(X_train[index])"
   ]
  },
  {
   "cell_type": "code",
   "execution_count": 9,
   "id": "6591f77c",
   "metadata": {},
   "outputs": [
    {
     "data": {
      "image/png": "[encoded data removed]",
      "text/plain": [
       "<Figure size 720x72 with 1 Axes>"
      ]
     },
     "metadata": {
      "needs_background": "light"
     },
     "output_type": "display_data"
    }
   ],
   "source": [
    "plot_sample(0)"
   ]
  },
  {
   "cell_type": "code",
   "execution_count": 10,
   "id": "936a12e2",
   "metadata": {},
   "outputs": [],
   "source": [
    "classes = [\"airplane\", \"automobile\", \"bird\", \"cat\", \"deer\", \"dog\", \"frog\", \"horse\", \"ship\", \"truck\"]"
   ]
  },
  {
   "cell_type": "code",
   "execution_count": 11,
   "id": "523efc5b",
   "metadata": {},
   "outputs": [
    {
     "data": {
      "text/plain": [
       "'deer'"
      ]
     },
     "execution_count": 11,
     "metadata": {},
     "output_type": "execute_result"
    }
   ],
   "source": [
    "classes[y_train[3][0]]"
   ]
  },
  {
   "cell_type": "code",
   "execution_count": 12,
   "id": "3f715fd6",
   "metadata": {},
   "outputs": [
    {
     "data": {
      "text/plain": [
       "array([[[0.23137255, 0.24313725, 0.24705882],\n",
       "        [0.16862745, 0.18039216, 0.17647059],\n",
       "        [0.19607843, 0.18823529, 0.16862745],\n",
       "        ...,\n",
       "        [0.61960784, 0.51764706, 0.42352941],\n",
       "        [0.59607843, 0.49019608, 0.4       ],\n",
       "        [0.58039216, 0.48627451, 0.40392157]],\n",
       "\n",
       "       [[0.0627451 , 0.07843137, 0.07843137],\n",
       "        [0.        , 0.        , 0.        ],\n",
       "        [0.07058824, 0.03137255, 0.        ],\n",
       "        ...,\n",
       "        [0.48235294, 0.34509804, 0.21568627],\n",
       "        [0.46666667, 0.3254902 , 0.19607843],\n",
       "        [0.47843137, 0.34117647, 0.22352941]],\n",
       "\n",
       "       [[0.09803922, 0.09411765, 0.08235294],\n",
       "        [0.0627451 , 0.02745098, 0.        ],\n",
       "        [0.19215686, 0.10588235, 0.03137255],\n",
       "        ...,\n",
       "        [0.4627451 , 0.32941176, 0.19607843],\n",
       "        [0.47058824, 0.32941176, 0.19607843],\n",
       "        [0.42745098, 0.28627451, 0.16470588]],\n",
       "\n",
       "       ...,\n",
       "\n",
       "       [[0.81568627, 0.66666667, 0.37647059],\n",
       "        [0.78823529, 0.6       , 0.13333333],\n",
       "        [0.77647059, 0.63137255, 0.10196078],\n",
       "        ...,\n",
       "        [0.62745098, 0.52156863, 0.2745098 ],\n",
       "        [0.21960784, 0.12156863, 0.02745098],\n",
       "        [0.20784314, 0.13333333, 0.07843137]],\n",
       "\n",
       "       [[0.70588235, 0.54509804, 0.37647059],\n",
       "        [0.67843137, 0.48235294, 0.16470588],\n",
       "        [0.72941176, 0.56470588, 0.11764706],\n",
       "        ...,\n",
       "        [0.72156863, 0.58039216, 0.36862745],\n",
       "        [0.38039216, 0.24313725, 0.13333333],\n",
       "        [0.3254902 , 0.20784314, 0.13333333]],\n",
       "\n",
       "       [[0.69411765, 0.56470588, 0.45490196],\n",
       "        [0.65882353, 0.50588235, 0.36862745],\n",
       "        [0.70196078, 0.55686275, 0.34117647],\n",
       "        ...,\n",
       "        [0.84705882, 0.72156863, 0.54901961],\n",
       "        [0.59215686, 0.4627451 , 0.32941176],\n",
       "        [0.48235294, 0.36078431, 0.28235294]]])"
      ]
     },
     "execution_count": 12,
     "metadata": {},
     "output_type": "execute_result"
    }
   ],
   "source": [
    "X_train[0]/255"
   ]
  },
  {
   "cell_type": "code",
   "execution_count": 13,
   "id": "3c16a34c",
   "metadata": {},
   "outputs": [],
   "source": [
    "X_train_scaled = X_train/255\n",
    "X_test_scaled = X_test/255"
   ]
  },
  {
   "cell_type": "code",
   "execution_count": 17,
   "id": "d9353793",
   "metadata": {},
   "outputs": [
    {
     "data": {
      "text/plain": [
       "array([[0., 0., 0., 0., 0., 0., 1., 0., 0., 0.],\n",
       "       [0., 0., 0., 0., 0., 0., 0., 0., 0., 1.],\n",
       "       [0., 0., 0., 0., 0., 0., 0., 0., 0., 1.],\n",
       "       [0., 0., 0., 0., 1., 0., 0., 0., 0., 0.],\n",
       "       [0., 1., 0., 0., 0., 0., 0., 0., 0., 0.]], dtype=float32)"
      ]
     },
     "execution_count": 17,
     "metadata": {},
     "output_type": "execute_result"
    }
   ],
   "source": [
    "y_train_categorical = keras.utils.to_categorical(\n",
    "    y_train, num_classes = 10, dtype='float32'\n",
    ")\n",
    "y_train_categorical[:5]"
   ]
  },
  {
   "cell_type": "code",
   "execution_count": 18,
   "id": "e9d4d98a",
   "metadata": {},
   "outputs": [
    {
     "data": {
      "text/plain": [
       "array([[0., 0., 0., 1., 0., 0., 0., 0., 0., 0.],\n",
       "       [0., 0., 0., 0., 0., 0., 0., 0., 1., 0.],\n",
       "       [0., 0., 0., 0., 0., 0., 0., 0., 1., 0.],\n",
       "       [1., 0., 0., 0., 0., 0., 0., 0., 0., 0.],\n",
       "       [0., 0., 0., 0., 0., 0., 1., 0., 0., 0.]], dtype=float32)"
      ]
     },
     "execution_count": 18,
     "metadata": {},
     "output_type": "execute_result"
    }
   ],
   "source": [
    "y_test_categorical = keras.utils.to_categorical(\n",
    "    y_test, num_classes = 10, dtype='float32'\n",
    ")\n",
    "y_test_categorical[:5]"
   ]
  },
  {
   "cell_type": "code",
   "execution_count": 19,
   "id": "13e9a8bb",
   "metadata": {},
   "outputs": [
    {
     "name": "stdout",
     "output_type": "stream",
     "text": [
      "Epoch 1/50\n",
      "1563/1563 [==============================] - 31s 17ms/step - loss: 1.8115 - accuracy: 0.3526\n",
      "Epoch 2/50\n",
      "1563/1563 [==============================] - 28s 18ms/step - loss: 1.6209 - accuracy: 0.4273\n",
      "Epoch 3/50\n",
      "1563/1563 [==============================] - 29s 19ms/step - loss: 1.5390 - accuracy: 0.4575\n",
      "Epoch 4/50\n",
      "1563/1563 [==============================] - 30s 19ms/step - loss: 1.4786 - accuracy: 0.4802\n",
      "Epoch 5/50\n",
      "1563/1563 [==============================] - 29s 19ms/step - loss: 1.4262 - accuracy: 0.4973\n",
      "Epoch 6/50\n",
      "1563/1563 [==============================] - 28s 18ms/step - loss: 1.3840 - accuracy: 0.5147\n",
      "Epoch 7/50\n",
      "1563/1563 [==============================] - 28s 18ms/step - loss: 1.3445 - accuracy: 0.5281\n",
      "Epoch 8/50\n",
      "1563/1563 [==============================] - 28s 18ms/step - loss: 1.3089 - accuracy: 0.5419\n",
      "Epoch 9/50\n",
      "1563/1563 [==============================] - 30s 19ms/step - loss: 1.2744 - accuracy: 0.5542\n",
      "Epoch 10/50\n",
      "1563/1563 [==============================] - 28s 18ms/step - loss: 1.2444 - accuracy: 0.5662\n",
      "Epoch 11/50\n",
      "1563/1563 [==============================] - 25s 16ms/step - loss: 1.2147 - accuracy: 0.5751\n",
      "Epoch 12/50\n",
      "1563/1563 [==============================] - 23s 15ms/step - loss: 1.1825 - accuracy: 0.5876\n",
      "Epoch 13/50\n",
      "1563/1563 [==============================] - 23s 15ms/step - loss: 1.1559 - accuracy: 0.5961\n",
      "Epoch 14/50\n",
      "1563/1563 [==============================] - 23s 15ms/step - loss: 1.1294 - accuracy: 0.6056\n",
      "Epoch 15/50\n",
      "1563/1563 [==============================] - 24s 15ms/step - loss: 1.0973 - accuracy: 0.6187\n",
      "Epoch 16/50\n",
      "1563/1563 [==============================] - 24s 15ms/step - loss: 1.0715 - accuracy: 0.6257\n",
      "Epoch 17/50\n",
      "1563/1563 [==============================] - 24s 15ms/step - loss: 1.0453 - accuracy: 0.6355\n",
      "Epoch 18/50\n",
      "1563/1563 [==============================] - 24s 15ms/step - loss: 1.0188 - accuracy: 0.6469\n",
      "Epoch 19/50\n",
      "1563/1563 [==============================] - 23s 15ms/step - loss: 0.9904 - accuracy: 0.6570\n",
      "Epoch 20/50\n",
      "1563/1563 [==============================] - 23s 15ms/step - loss: 0.9662 - accuracy: 0.6668\n",
      "Epoch 21/50\n",
      "1563/1563 [==============================] - 24s 15ms/step - loss: 0.9386 - accuracy: 0.6744\n",
      "Epoch 22/50\n",
      "1563/1563 [==============================] - 23s 15ms/step - loss: 0.9107 - accuracy: 0.6848\n",
      "Epoch 23/50\n",
      "1563/1563 [==============================] - 23s 15ms/step - loss: 0.8865 - accuracy: 0.6959\n",
      "Epoch 24/50\n",
      "1563/1563 [==============================] - 3429s 2s/step - loss: 0.8587 - accuracy: 0.7047\n",
      "Epoch 25/50\n",
      "1563/1563 [==============================] - 14s 9ms/step - loss: 0.8287 - accuracy: 0.7156\n",
      "Epoch 26/50\n",
      "1563/1563 [==============================] - 14s 9ms/step - loss: 0.8036 - accuracy: 0.7255\n",
      "Epoch 27/50\n",
      "1563/1563 [==============================] - 14s 9ms/step - loss: 0.7774 - accuracy: 0.7358\n",
      "Epoch 28/50\n",
      "1563/1563 [==============================] - 14s 9ms/step - loss: 0.7537 - accuracy: 0.7439\n",
      "Epoch 29/50\n",
      "1563/1563 [==============================] - 14s 9ms/step - loss: 0.7283 - accuracy: 0.7521\n",
      "Epoch 30/50\n",
      "1563/1563 [==============================] - 14s 9ms/step - loss: 0.7032 - accuracy: 0.7611\n",
      "Epoch 31/50\n",
      "1563/1563 [==============================] - 14s 9ms/step - loss: 0.6734 - accuracy: 0.7721\n",
      "Epoch 32/50\n",
      "1563/1563 [==============================] - 14s 9ms/step - loss: 0.6472 - accuracy: 0.7821\n",
      "Epoch 33/50\n",
      "1563/1563 [==============================] - 14s 9ms/step - loss: 0.6239 - accuracy: 0.7921\n",
      "Epoch 34/50\n",
      "1563/1563 [==============================] - 14s 9ms/step - loss: 0.5964 - accuracy: 0.8017\n",
      "Epoch 35/50\n",
      "1563/1563 [==============================] - 14s 9ms/step - loss: 0.5697 - accuracy: 0.8123\n",
      "Epoch 36/50\n",
      "1563/1563 [==============================] - 14s 9ms/step - loss: 0.5475 - accuracy: 0.8195\n",
      "Epoch 37/50\n",
      "1563/1563 [==============================] - 14s 9ms/step - loss: 0.5209 - accuracy: 0.8291\n",
      "Epoch 38/50\n",
      "1563/1563 [==============================] - 14s 9ms/step - loss: 0.5020 - accuracy: 0.8371\n",
      "Epoch 39/50\n",
      "1563/1563 [==============================] - 14s 9ms/step - loss: 0.4729 - accuracy: 0.8480\n",
      "Epoch 40/50\n",
      "1563/1563 [==============================] - 14s 9ms/step - loss: 0.4516 - accuracy: 0.8578\n",
      "Epoch 41/50\n",
      "1563/1563 [==============================] - 14s 9ms/step - loss: 0.4307 - accuracy: 0.8631\n",
      "Epoch 42/50\n",
      "1563/1563 [==============================] - 14s 9ms/step - loss: 0.4051 - accuracy: 0.8720\n",
      "Epoch 43/50\n",
      "1563/1563 [==============================] - 14s 9ms/step - loss: 0.3858 - accuracy: 0.8799\n",
      "Epoch 44/50\n",
      "1563/1563 [==============================] - 14s 9ms/step - loss: 0.3627 - accuracy: 0.8888\n",
      "Epoch 45/50\n",
      "1563/1563 [==============================] - 14s 9ms/step - loss: 0.3469 - accuracy: 0.8948\n",
      "Epoch 46/50\n",
      "1563/1563 [==============================] - 14s 9ms/step - loss: 0.3268 - accuracy: 0.9022\n",
      "Epoch 47/50\n",
      "1563/1563 [==============================] - 14s 9ms/step - loss: 0.3067 - accuracy: 0.9089\n",
      "Epoch 48/50\n",
      "1563/1563 [==============================] - 14s 9ms/step - loss: 0.2884 - accuracy: 0.9162\n",
      "Epoch 49/50\n",
      "1563/1563 [==============================] - 14s 9ms/step - loss: 0.2708 - accuracy: 0.9223\n",
      "Epoch 50/50\n",
      "1563/1563 [==============================] - 14s 9ms/step - loss: 0.2539 - accuracy: 0.9280\n"
     ]
    },
    {
     "data": {
      "text/plain": [
       "<keras.callbacks.History at 0x23cdc7a45b0>"
      ]
     },
     "execution_count": 19,
     "metadata": {},
     "output_type": "execute_result"
    }
   ],
   "source": [
    "model = keras.Sequential([\n",
    "    keras.layers.Flatten(input_shape=(32,32,3)),\n",
    "    keras.layers.Dense(3000, activation='relu'),\n",
    "    keras.layers.Dense(3000, activation='relu'),\n",
    "    keras.layers.Dense(10, activation='sigmoid')\n",
    "])\n",
    "model.compile(optimizer='SGD', loss='categorical_crossentropy', metrics=['accuracy'])\n",
    "model.fit(X_train_scaled, y_train_categorical, epochs=50)"
   ]
  },
  {
   "cell_type": "code",
   "execution_count": 20,
   "id": "4f388185",
   "metadata": {},
   "outputs": [
    {
     "data": {
      "text/plain": [
       "array([[5.25876224e-01, 2.02370718e-01, 7.05042362e-01, ...,\n",
       "        5.31388912e-04, 8.30048740e-01, 1.22596793e-01],\n",
       "       [8.92070293e-01, 9.81696129e-01, 4.36019152e-01, ...,\n",
       "        9.85107496e-02, 9.99890566e-01, 9.97337043e-01],\n",
       "       [9.88602102e-01, 9.69123483e-01, 2.73973376e-01, ...,\n",
       "        9.23012912e-01, 9.98276114e-01, 9.03863609e-01],\n",
       "       ...,\n",
       "       [1.96567342e-01, 1.07439992e-03, 9.83206093e-01, ...,\n",
       "        7.22026289e-01, 2.71290064e-01, 5.36269322e-02],\n",
       "       [8.56343508e-02, 9.44624282e-03, 9.17811096e-01, ...,\n",
       "        7.10311681e-02, 1.44636273e-01, 1.06867664e-01],\n",
       "       [2.30058745e-01, 2.26888712e-02, 9.09354687e-01, ...,\n",
       "        9.98520315e-01, 1.19009115e-01, 3.74016106e-01]], dtype=float32)"
      ]
     },
     "execution_count": 20,
     "metadata": {},
     "output_type": "execute_result"
    }
   ],
   "source": [
    "model.predict(X_test_scaled)"
   ]
  },
  {
   "cell_type": "code",
   "execution_count": 21,
   "id": "44cbf9ec",
   "metadata": {},
   "outputs": [
    {
     "data": {
      "text/plain": [
       "array([3], dtype=uint8)"
      ]
     },
     "execution_count": 21,
     "metadata": {},
     "output_type": "execute_result"
    }
   ],
   "source": [
    "y_test[0]"
   ]
  },
  {
   "cell_type": "code",
   "execution_count": 25,
   "id": "17940c99",
   "metadata": {},
   "outputs": [
    {
     "data": {
      "text/plain": [
       "'ship'"
      ]
     },
     "execution_count": 25,
     "metadata": {},
     "output_type": "execute_result"
    }
   ],
   "source": [
    "classes[y_test[1][0]]"
   ]
  },
  {
   "cell_type": "code",
   "execution_count": 24,
   "id": "20317267",
   "metadata": {},
   "outputs": [
    {
     "data": {
      "text/plain": [
       "'ship'"
      ]
     },
     "execution_count": 24,
     "metadata": {},
     "output_type": "execute_result"
    }
   ],
   "source": [
    "classes[np.argmax(model.predict(X_test_scaled)[1])]"
   ]
  },
  {
   "cell_type": "code",
   "execution_count": 26,
   "id": "d6d58e81",
   "metadata": {},
   "outputs": [],
   "source": [
    "def get_model():\n",
    "    model = keras.Sequential([\n",
    "        keras.layers.Flatten(input_shape=(32,32,3)),\n",
    "        keras.layers.Dense(3000, activation=\"relu\"),\n",
    "        keras.layers.Dense(3000, activation=\"relu\"),\n",
    "        keras.layers.Dense(10, activation=\"sigmoid\"),\n",
    "    ])\n",
    "    model.compile(optimizer='SGD', loss='categorical_crossentropy', metrics=['accuracy'])\n",
    "    return model"
   ]
  },
  {
   "cell_type": "code",
   "execution_count": 27,
   "id": "5ddba457",
   "metadata": {},
   "outputs": [
    {
     "name": "stdout",
     "output_type": "stream",
     "text": [
      "1563/1563 [==============================] - 99s 62ms/step - loss: 1.8082 - accuracy: 0.3570\n"
     ]
    }
   ],
   "source": [
    "with tf.device('/CPU:0'):\n",
    "    cpu_model = get_model()\n",
    "    cpu_model.fit(X_train_scaled, y_train_categorical, epochs=1)"
   ]
  },
  {
   "cell_type": "code",
   "execution_count": null,
   "id": "6640121a",
   "metadata": {},
   "outputs": [],
   "source": []
  }
 ],
 "metadata": {
  "kernelspec": {
   "display_name": "Python 3 (ipykernel)",
   "language": "python",
   "name": "python3"
  },
  "language_info": {
   "codemirror_mode": {
    "name": "ipython",
    "version": 3
   },
   "file_extension": ".py",
   "mimetype": "text/x-python",
   "name": "python",
   "nbconvert_exporter": "python",
   "pygments_lexer": "ipython3",
   "version": "3.9.7"
  }
 },
 "nbformat": 4,
 "nbformat_minor": 5
}
